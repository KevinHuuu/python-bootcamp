{
 "cells": [
  {
   "cell_type": "markdown",
   "metadata": {},
   "source": [
    "# Strings in Python\n",
    "We are going to learn more about strings, which have interesting properties in Python.\n",
    "\n",
    "Strings are treated as lists. Here's some cool we can do:\n",
    "- Get part of the string `newString[0]`\n",
    "- Reverse a string `newString[::-1]`"
   ]
  },
  {
   "cell_type": "code",
   "execution_count": null,
   "metadata": {},
   "outputs": [],
   "source": [
    "newString = \"UC Berkeley,School of Information\""
   ]
  },
  {
   "cell_type": "code",
   "execution_count": null,
   "metadata": {},
   "outputs": [],
   "source": [
    "newString[::-1]"
   ]
  },
  {
   "cell_type": "code",
   "execution_count": null,
   "metadata": {},
   "outputs": [],
   "source": [
    "newString[5]"
   ]
  },
  {
   "cell_type": "code",
   "execution_count": null,
   "metadata": {},
   "outputs": [],
   "source": [
    "newString.split(' ')"
   ]
  },
  {
   "cell_type": "code",
   "execution_count": null,
   "metadata": {},
   "outputs": [],
   "source": [
    "a, b, c = 0, False, \"hi guys\"\n"
   ]
  },
  {
   "cell_type": "code",
   "execution_count": null,
   "metadata": {},
   "outputs": [],
   "source": [
    "while True:\n",
    "    try:\n",
    "        x = int(input(\"Give me a number: \"))\n",
    "        break\n",
    "    except ValueError:\n",
    "        x = 3\n",
    "        print(\"That isn't a number, so here's one: \", x)\n",
    "    else: \n",
    "        print(\"The number is: \", x)\n",
    "    finally:\n",
    "        print(\"lets do it again!\")"
   ]
  },
  {
   "cell_type": "code",
   "execution_count": 1,
   "metadata": {},
   "outputs": [
    {
     "name": "stdin",
     "output_type": "stream",
     "text": [
      "Enter a value    1\n"
     ]
    },
    {
     "name": "stdout",
     "output_type": "stream",
     "text": [
      "count 1\n",
      "numbers [1]\n",
      "avg is  1.0\n"
     ]
    },
    {
     "name": "stdin",
     "output_type": "stream",
     "text": [
      "Enter a value    6\n"
     ]
    },
    {
     "name": "stdout",
     "output_type": "stream",
     "text": [
      "count 2\n",
      "numbers [1, 6]\n",
      "avg is  3.5\n"
     ]
    },
    {
     "name": "stdin",
     "output_type": "stream",
     "text": [
      "Enter a value    done\n"
     ]
    },
    {
     "name": "stdout",
     "output_type": "stream",
     "text": [
      "Thank you!\n",
      "3.5\n"
     ]
    }
   ],
   "source": [
    "def find_average():\n",
    "    \"\"\"Takes numeric input (non-word numerals) from the user, one number\n",
    "    at a time. Once the user types ‘done’, returns the average.\n",
    "    \"\"\"\n",
    "    numbers = []\n",
    "    count = 0\n",
    "    avg = \"\"\n",
    "    while True:\n",
    "        try:\n",
    "            user_input = input(\"Enter a value   \")\n",
    "            numbers.append(int(user_input))\n",
    "            count += 1\n",
    "            print('count', count)\n",
    "            print('numbers', numbers)\n",
    "            avg = (sum(numbers))/count\n",
    "            print('avg is ',avg)\n",
    "        except:\n",
    "            if user_input.casefold() == \"done\":\n",
    "                print (\"Thank you!\")\n",
    "                print (avg)\n",
    "                break\n",
    "find_average()"
   ]
  },
  {
   "cell_type": "code",
   "execution_count": null,
   "metadata": {},
   "outputs": [],
   "source": []
  }
 ],
 "metadata": {
  "kernelspec": {
   "display_name": "Python 3",
   "language": "python",
   "name": "python3"
  },
  "language_info": {
   "codemirror_mode": {
    "name": "ipython",
    "version": 3
   },
   "file_extension": ".py",
   "mimetype": "text/x-python",
   "name": "python",
   "nbconvert_exporter": "python",
   "pygments_lexer": "ipython3",
   "version": "3.7.3"
  }
 },
 "nbformat": 4,
 "nbformat_minor": 4
}
